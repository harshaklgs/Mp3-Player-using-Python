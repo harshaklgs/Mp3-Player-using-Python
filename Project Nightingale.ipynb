{
 "cells": [
  {
   "cell_type": "code",
   "execution_count": 19,
   "metadata": {},
   "outputs": [],
   "source": [
    "import os\n",
    "import pygame\n",
    "from mutagen.id3 import ID3\n",
    "from tkinter import *"
   ]
  },
  {
   "cell_type": "code",
   "execution_count": 20,
   "metadata": {},
   "outputs": [
    {
     "data": {
      "text/plain": [
       "''"
      ]
     },
     "execution_count": 20,
     "metadata": {},
     "output_type": "execute_result"
    }
   ],
   "source": [
    "root = Tk()\n",
    "root.title('Project Nightingale')"
   ]
  },
  {
   "cell_type": "code",
   "execution_count": 21,
   "metadata": {},
   "outputs": [],
   "source": [
    "listofsongs = []\n",
    "\n",
    "realnames = []"
   ]
  },
  {
   "cell_type": "code",
   "execution_count": 22,
   "metadata": {},
   "outputs": [],
   "source": [
    "v = StringVar()\n",
    "\n",
    "songlabel = Label(root, textvariable = v, width = 60,fg = 'red', font = \"Times\", anchor = CENTER, bd = 4, relief = SUNKEN)\n",
    "index = 0"
   ]
  },
  {
   "cell_type": "code",
   "execution_count": 23,
   "metadata": {},
   "outputs": [],
   "source": [
    "def songchooser():\n",
    "    #directory = askdirectory()\n",
    "    directory = 'C:\\\\Users\\HARSHA\\Music'\n",
    "    os.chdir(directory)\n",
    "    for file in os.listdir(directory):\n",
    "        if file.endswith('.mp3'):\n",
    "            realdir = os.path.realpath(file)\n",
    "            audio = ID3(realdir)\n",
    "            realnames.append(audio['TIT2'].text[0])\n",
    "            listofsongs.append(file)\n",
    "    pygame.mixer.init()\n",
    "songchooser()"
   ]
  },
  {
   "cell_type": "code",
   "execution_count": 24,
   "metadata": {},
   "outputs": [],
   "source": [
    "def startsong():\n",
    "    pygame.mixer.music.load(listofsongs[0])\n",
    "    updatelabel()\n",
    "    pygame.mixer.music.play()"
   ]
  },
  {
   "cell_type": "code",
   "execution_count": 25,
   "metadata": {},
   "outputs": [],
   "source": [
    "def updatelabel():\n",
    "    global index\n",
    "    v.set(realnames[index])"
   ]
  },
  {
   "cell_type": "code",
   "execution_count": 26,
   "metadata": {},
   "outputs": [],
   "source": [
    "def nextsong():\n",
    "    global index\n",
    "    \n",
    "    index += 1\n",
    "    pygame.mixer.music.load(listofsongs[index])\n",
    "    updatelabel()\n",
    "    pygame.mixer.music.play()\n",
    "    if(index == len(listofsongs)-1):\n",
    "        index = -1\n"
   ]
  },
  {
   "cell_type": "code",
   "execution_count": 27,
   "metadata": {},
   "outputs": [],
   "source": [
    "def prevsong():\n",
    "    global index\n",
    "    \n",
    "    index -= 1\n",
    "    pygame.mixer.music.load(listofsongs[index])\n",
    "    updatelabel()\n",
    "    pygame.mixer.music.play()\n",
    "    if(index == -1):\n",
    "        index = len(listofsongs)-1\n",
    "    "
   ]
  },
  {
   "cell_type": "code",
   "execution_count": 28,
   "metadata": {},
   "outputs": [],
   "source": [
    "def stopsong():\n",
    "    pygame.mixer.music.fadeout(100)\n",
    "    v.set('')"
   ]
  },
  {
   "cell_type": "code",
   "execution_count": 29,
   "metadata": {},
   "outputs": [],
   "source": [
    "check = False\n",
    "def pausesong():\n",
    "    global check\n",
    "    if(check == False):\n",
    "        pygame.mixer.music.pause()\n",
    "        check = True\n",
    "    else:\n",
    "        pygame.mixer.music.unpause()\n",
    "        check = False"
   ]
  },
  {
   "cell_type": "code",
   "execution_count": 30,
   "metadata": {},
   "outputs": [],
   "source": [
    "label = Label(root, text='Project Nightingale', height = 5, width = 15, bd = 10, fg = \"blue violet\", font = \"1000\")\n",
    "label.pack()\n",
    "songlabel.pack()\n"
   ]
  },
  {
   "cell_type": "code",
   "execution_count": 31,
   "metadata": {},
   "outputs": [],
   "source": [
    "listbox = Listbox(root, width = 100, bg = 'light sky blue', fg = 'red', font = 15)\n",
    "listbox.pack()"
   ]
  },
  {
   "cell_type": "code",
   "execution_count": 32,
   "metadata": {},
   "outputs": [],
   "source": [
    "realnames.reverse()\n",
    "i=1\n",
    "for items in realnames:\n",
    "    listbox.insert(END, str(i) +') '+ items)\n",
    "    i+=1\n",
    "realnames.reverse()"
   ]
  },
  {
   "cell_type": "code",
   "execution_count": 33,
   "metadata": {},
   "outputs": [],
   "source": [
    "frame = Frame(root, width = 70, height = 50)\n",
    "frame.pack()\n",
    "bottomframe = Frame(root)\n",
    "bottomframe.pack()\n",
    "startbutton = Button(frame, text = 'Start', bg = 'blue', command = startsong, justify = CENTER, font = 10)\n",
    "startbutton.pack(side = TOP)\n",
    "nextbutton = Button(frame, text = 'Next Song', bg = 'red', command = nextsong, justify = CENTER, font = 10)\n",
    "nextbutton.pack(side = TOP)\n",
    "prevbutton = Button(frame, text = 'Prev Song', bg = 'yellow', command = prevsong, justify = CENTER, font = 10)\n",
    "prevbutton.pack(side = BOTTOM)\n",
    "stopbutton = Button(frame, text = 'Stop Song', bg = 'violet', command = stopsong, justify = CENTER, font = 10)\n",
    "stopbutton.pack(side = RIGHT)\n",
    "pausebutton = Button(frame, text = 'Pause/Play', bg = 'pink', command = pausesong, justify = CENTER, font = 10)\n",
    "pausebutton.pack(side = BOTTOM)\n"
   ]
  },
  {
   "cell_type": "code",
   "execution_count": 34,
   "metadata": {},
   "outputs": [],
   "source": [
    "songlabel.pack()"
   ]
  },
  {
   "cell_type": "code",
   "execution_count": 35,
   "metadata": {},
   "outputs": [],
   "source": [
    "root.mainloop()"
   ]
  },
  {
   "cell_type": "code",
   "execution_count": null,
   "metadata": {},
   "outputs": [],
   "source": []
  },
  {
   "cell_type": "code",
   "execution_count": null,
   "metadata": {},
   "outputs": [],
   "source": []
  }
 ],
 "metadata": {
  "kernelspec": {
   "display_name": "Python 3",
   "language": "python",
   "name": "python3"
  },
  "language_info": {
   "codemirror_mode": {
    "name": "ipython",
    "version": 3
   },
   "file_extension": ".py",
   "mimetype": "text/x-python",
   "name": "python",
   "nbconvert_exporter": "python",
   "pygments_lexer": "ipython3",
   "version": "3.7.3"
  }
 },
 "nbformat": 4,
 "nbformat_minor": 2
}
